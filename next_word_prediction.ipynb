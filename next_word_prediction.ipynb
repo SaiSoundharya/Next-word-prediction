{
  "cells": [
    {
      "cell_type": "markdown",
      "metadata": {
        "id": "view-in-github",
        "colab_type": "text"
      },
      "source": [
        "<a href=\"https://colab.research.google.com/github/SaiSoundharya/Next-word-prediction/blob/main/next_word_prediction.ipynb\" target=\"_parent\"><img src=\"https://colab.research.google.com/assets/colab-badge.svg\" alt=\"Open In Colab\"/></a>"
      ]
    },
    {
      "cell_type": "markdown",
      "metadata": {
        "id": "5b1MMsaCwd8l"
      },
      "source": [
        "# Importing libraries"
      ]
    },
    {
      "cell_type": "code",
      "execution_count": null,
      "metadata": {
        "id": "hbUu-zkKgdvN"
      },
      "outputs": [],
      "source": [
        "import numpy as np\n",
        "import tensorflow as tf\n",
        "from numpy.core.multiarray import dtype\n",
        "from keras.models import Sequential, load_model\n",
        "from keras.layers import Dense, Activation\n",
        "from keras.layers import LSTM, Dropout\n",
        "from keras.layers import TimeDistributed\n",
        "from keras.layers.core import Dense, Activation, Dropout, RepeatVector\n",
        "from keras.optimizers import RMSprop\n",
        "import matplotlib\n",
        "matplotlib.use('agg')\n",
        "import matplotlib.pyplot as plt\n",
        "import pickle\n",
        "import sys\n",
        "import heapq\n",
        "import seaborn as sns\n",
        "from pylab import rcParams\n",
        "np.random.seed(42)\n",
        "tf.random.set_seed(42)\n",
        "sns.set(style='whitegrid', palette='muted', font_scale=1.5)\n",
        "rcParams['figure.figsize'] = 12, 5"
      ]
    },
    {
      "cell_type": "markdown",
      "metadata": {
        "id": "hAsyxLZ5wqu7"
      },
      "source": [
        "# Load the dataset"
      ]
    },
    {
      "cell_type": "code",
      "execution_count": null,
      "metadata": {
        "colab": {
          "base_uri": "https://localhost:8080/"
        },
        "id": "Go8O-XN0g0Nn",
        "outputId": "2c0ca6eb-0ba3-4454-9c6f-6014ba0ce85b"
      },
      "outputs": [
        {
          "name": "stdout",
          "output_type": "stream",
          "text": [
            "Mounted at /content/gdrive\n"
          ]
        }
      ],
      "source": [
        "from google.colab import drive\n",
        "drive.mount('/content/gdrive')"
      ]
    },
    {
      "cell_type": "code",
      "execution_count": null,
      "metadata": {
        "colab": {
          "base_uri": "https://localhost:8080/"
        },
        "id": "Bgf4k25op2BD",
        "outputId": "6d24cf05-2d65-4b58-d19a-44cac7bdab7b"
      },
      "outputs": [
        {
          "name": "stdout",
          "output_type": "stream",
          "text": [
            "corpus length: 581888\n"
          ]
        }
      ],
      "source": [
        "path = '/content/gdrive/MyDrive/dataset.txt'\n",
        "text = open(path).read().lower()\n",
        "print('corpus length:', len(text))"
      ]
    },
    {
      "cell_type": "markdown",
      "metadata": {
        "id": "iH6NznUnwzwG"
      },
      "source": [
        "# Data preprocessing"
      ]
    },
    {
      "cell_type": "code",
      "execution_count": null,
      "metadata": {
        "colab": {
          "base_uri": "https://localhost:8080/"
        },
        "id": "cmrTlo5Rp8Gv",
        "outputId": "0c9749b3-3ae4-499b-c3c8-f65e6d7d5165"
      },
      "outputs": [
        {
          "name": "stdout",
          "output_type": "stream",
          "text": [
            "unique chars:  73\n"
          ]
        }
      ],
      "source": [
        "chars = sorted(list(set(text)))\n",
        "char_indices = dict((c, i) for i, c in enumerate(chars))\n",
        "indices_char = dict((i, c) for i, c in enumerate(chars))\n",
        "\n",
        "print (\"unique chars: \",len(chars))"
      ]
    },
    {
      "cell_type": "markdown",
      "metadata": {
        "id": "nRCMf5Zow321"
      },
      "source": [
        "# Feature engineering"
      ]
    },
    {
      "cell_type": "code",
      "execution_count": null,
      "metadata": {
        "colab": {
          "base_uri": "https://localhost:8080/"
        },
        "id": "iwNMY-ZxqGno",
        "outputId": "9817bd7f-bbaa-4881-8913-f7bf746fdf85"
      },
      "outputs": [
        {
          "name": "stdout",
          "output_type": "stream",
          "text": [
            "num training examples:  193950\n"
          ]
        }
      ],
      "source": [
        "SEQUENCE_LENGTH = 40\n",
        "step = 3\n",
        "sentences = []\n",
        "next_chars = []\n",
        "for i in range(0, len(text) - SEQUENCE_LENGTH, step):\n",
        "    sentences.append(text[i:i+SEQUENCE_LENGTH])\n",
        "    next_chars.append(text[i+SEQUENCE_LENGTH])\n",
        "print('num training examples: ',len(sentences))"
      ]
    },
    {
      "cell_type": "code",
      "execution_count": null,
      "metadata": {
        "id": "Pd4Ik-xwqHvb"
      },
      "outputs": [],
      "source": [
        "X = np.zeros((len(sentences), SEQUENCE_LENGTH, len(chars)), dtype=bool)\n",
        "y = np.zeros((len(sentences), len(chars)), dtype=bool)\n",
        "for i, sentence in enumerate(sentences):\n",
        "    for t, char in enumerate(sentence):\n",
        "        X[i, t, char_indices[char]] = 1\n",
        "    y[i, char_indices[next_chars[i]]] = 1"
      ]
    },
    {
      "cell_type": "markdown",
      "metadata": {
        "id": "zketdCVaxAhB"
      },
      "source": [
        "# Building the Recurrent Neural network"
      ]
    },
    {
      "cell_type": "code",
      "execution_count": null,
      "metadata": {
        "id": "WGjqceFBqIGH"
      },
      "outputs": [],
      "source": [
        "model = Sequential();\n",
        "model.add(LSTM(128, input_shape=(SEQUENCE_LENGTH, len(chars))))\n",
        "model.add(Dense(len(chars)))\n",
        "model.add(Activation('softmax'))"
      ]
    },
    {
      "cell_type": "code",
      "execution_count": null,
      "metadata": {
        "colab": {
          "base_uri": "https://localhost:8080/"
        },
        "id": "AsZE7pX-rtmH",
        "outputId": "7420f33a-ef33-4f82-a7a6-2bfcb6db60ca"
      },
      "outputs": [
        {
          "name": "stdout",
          "output_type": "stream",
          "text": [
            "Model: \"sequential\"\n",
            "_________________________________________________________________\n",
            " Layer (type)                Output Shape              Param #   \n",
            "=================================================================\n",
            " lstm (LSTM)                 (None, 128)               103424    \n",
            "                                                                 \n",
            " dense (Dense)               (None, 73)                9417      \n",
            "                                                                 \n",
            " activation (Activation)     (None, 73)                0         \n",
            "                                                                 \n",
            "=================================================================\n",
            "Total params: 112,841\n",
            "Trainable params: 112,841\n",
            "Non-trainable params: 0\n",
            "_________________________________________________________________\n"
          ]
        }
      ],
      "source": [
        "model.summary()"
      ]
    },
    {
      "cell_type": "code",
      "execution_count": null,
      "metadata": {
        "colab": {
          "base_uri": "https://localhost:8080/",
          "height": 369
        },
        "id": "GJKmc2z4rsYT",
        "outputId": "fe8df0d7-56c1-4700-9389-f6d3e4c162de"
      },
      "outputs": [
        {
          "data": {
            "image/png": "[encoded data removed]",
            "text/plain": [
              "<IPython.core.display.Image object>"
            ]
          },
          "execution_count": 9,
          "metadata": {},
          "output_type": "execute_result"
        }
      ],
      "source": [
        "from tensorflow import keras\n",
        "from keras.utils.vis_utils import plot_model\n",
        "\n",
        "keras.utils.plot_model(model, to_file='plot.png', show_layer_names=True)"
      ]
    },
    {
      "cell_type": "markdown",
      "metadata": {
        "id": "BSY2kKkuxCuK"
      },
      "source": [
        "# Training the Next Word Prediction Model"
      ]
    },
    {
      "cell_type": "code",
      "execution_count": null,
      "metadata": {
        "colab": {
          "base_uri": "https://localhost:8080/"
        },
        "id": "lvZeQsjxqIVU",
        "outputId": "fa501aa9-7fbe-46ca-d1ad-538ddb7deb32"
      },
      "outputs": [
        {
          "name": "stdout",
          "output_type": "stream",
          "text": [
            "Epoch 1/30\n",
            "1440/1440 [==============================] - 182s 122ms/step - loss: 1.9661 - accuracy: 0.4227 - val_loss: 2.1046 - val_accuracy: 0.4220\n",
            "Epoch 2/30\n",
            "1440/1440 [==============================] - 170s 118ms/step - loss: 1.6206 - accuracy: 0.5141 - val_loss: 2.0739 - val_accuracy: 0.4247\n",
            "Epoch 3/30\n",
            "1440/1440 [==============================] - 171s 119ms/step - loss: 1.5184 - accuracy: 0.5404 - val_loss: 2.0516 - val_accuracy: 0.4467\n",
            "Epoch 4/30\n",
            "1440/1440 [==============================] - 170s 118ms/step - loss: 1.4639 - accuracy: 0.5543 - val_loss: 2.0375 - val_accuracy: 0.4559\n",
            "Epoch 5/30\n",
            "1440/1440 [==============================] - 171s 119ms/step - loss: 1.4260 - accuracy: 0.5640 - val_loss: 2.0314 - val_accuracy: 0.4568\n",
            "Epoch 6/30\n",
            "1440/1440 [==============================] - 171s 119ms/step - loss: 1.4005 - accuracy: 0.5715 - val_loss: 2.0251 - val_accuracy: 0.4659\n",
            "Epoch 7/30\n",
            "1440/1440 [==============================] - 171s 119ms/step - loss: 1.3803 - accuracy: 0.5769 - val_loss: 2.0264 - val_accuracy: 0.4650\n",
            "Epoch 8/30\n",
            "1440/1440 [==============================] - 169s 118ms/step - loss: 1.3635 - accuracy: 0.5815 - val_loss: 2.0280 - val_accuracy: 0.4714\n",
            "Epoch 9/30\n",
            "1440/1440 [==============================] - 171s 119ms/step - loss: 1.3517 - accuracy: 0.5830 - val_loss: 2.0514 - val_accuracy: 0.4682\n",
            "Epoch 10/30\n",
            "1440/1440 [==============================] - 167s 116ms/step - loss: 1.3394 - accuracy: 0.5865 - val_loss: 2.0664 - val_accuracy: 0.4654\n",
            "Epoch 11/30\n",
            "1440/1440 [==============================] - 167s 116ms/step - loss: 1.3288 - accuracy: 0.5898 - val_loss: 2.0636 - val_accuracy: 0.4682\n",
            "Epoch 12/30\n",
            "1440/1440 [==============================] - 165s 115ms/step - loss: 1.3206 - accuracy: 0.5917 - val_loss: 2.0431 - val_accuracy: 0.4682\n",
            "Epoch 13/30\n",
            "1440/1440 [==============================] - 170s 118ms/step - loss: 1.3137 - accuracy: 0.5938 - val_loss: 2.0825 - val_accuracy: 0.4672\n",
            "Epoch 14/30\n",
            "1440/1440 [==============================] - 172s 119ms/step - loss: 1.3079 - accuracy: 0.5951 - val_loss: 2.0761 - val_accuracy: 0.4626\n",
            "Epoch 15/30\n",
            "1440/1440 [==============================] - 169s 117ms/step - loss: 1.3009 - accuracy: 0.5968 - val_loss: 2.0641 - val_accuracy: 0.4640\n",
            "Epoch 16/30\n",
            "1440/1440 [==============================] - 168s 116ms/step - loss: 1.2952 - accuracy: 0.5987 - val_loss: 2.0530 - val_accuracy: 0.4723\n",
            "Epoch 17/30\n",
            "1440/1440 [==============================] - 166s 115ms/step - loss: 1.2898 - accuracy: 0.6006 - val_loss: 2.0698 - val_accuracy: 0.4739\n",
            "Epoch 18/30\n",
            "1440/1440 [==============================] - 167s 116ms/step - loss: 1.2851 - accuracy: 0.6016 - val_loss: 2.1061 - val_accuracy: 0.4650\n",
            "Epoch 19/30\n",
            "1440/1440 [==============================] - 168s 117ms/step - loss: 1.2811 - accuracy: 0.6015 - val_loss: 2.0873 - val_accuracy: 0.4681\n",
            "Epoch 20/30\n",
            "1440/1440 [==============================] - 168s 117ms/step - loss: 1.2761 - accuracy: 0.6035 - val_loss: 2.1031 - val_accuracy: 0.4687\n",
            "Epoch 21/30\n",
            "1440/1440 [==============================] - 167s 116ms/step - loss: 1.2727 - accuracy: 0.6041 - val_loss: 2.1138 - val_accuracy: 0.4596\n",
            "Epoch 22/30\n",
            "1440/1440 [==============================] - 166s 115ms/step - loss: 1.2661 - accuracy: 0.6066 - val_loss: 2.1318 - val_accuracy: 0.4715\n",
            "Epoch 23/30\n",
            "1440/1440 [==============================] - 167s 116ms/step - loss: 1.2643 - accuracy: 0.6078 - val_loss: 2.1198 - val_accuracy: 0.4632\n",
            "Epoch 24/30\n",
            "1440/1440 [==============================] - 169s 117ms/step - loss: 1.2621 - accuracy: 0.6071 - val_loss: 2.1506 - val_accuracy: 0.4584\n",
            "Epoch 25/30\n",
            "1440/1440 [==============================] - 170s 118ms/step - loss: 1.2596 - accuracy: 0.6080 - val_loss: 2.1533 - val_accuracy: 0.4647\n",
            "Epoch 26/30\n",
            "1440/1440 [==============================] - 168s 117ms/step - loss: 1.2543 - accuracy: 0.6100 - val_loss: 2.1060 - val_accuracy: 0.4748\n",
            "Epoch 27/30\n",
            "1440/1440 [==============================] - 175s 122ms/step - loss: 1.2517 - accuracy: 0.6102 - val_loss: 2.1488 - val_accuracy: 0.4644\n",
            "Epoch 28/30\n",
            "1440/1440 [==============================] - 185s 129ms/step - loss: 1.2485 - accuracy: 0.6105 - val_loss: 2.1409 - val_accuracy: 0.4650\n",
            "Epoch 29/30\n",
            "1440/1440 [==============================] - 169s 117ms/step - loss: 1.2448 - accuracy: 0.6114 - val_loss: 2.1638 - val_accuracy: 0.4651\n",
            "Epoch 30/30\n",
            "1440/1440 [==============================] - 168s 117ms/step - loss: 1.2444 - accuracy: 0.6122 - val_loss: 2.1145 - val_accuracy: 0.4779\n"
          ]
        }
      ],
      "source": [
        "optimizer = RMSprop(learning_rate= 0.01)\n",
        "model.compile(loss='categorical_crossentropy', optimizer=optimizer, metrics=['accuracy'])\n",
        "\n",
        "history = model.fit(X, y, validation_split=0.05, batch_size=128, epochs=30, shuffle=True).history"
      ]
    },
    {
      "cell_type": "code",
      "execution_count": null,
      "metadata": {
        "id": "u_8BzVnC-mT5"
      },
      "outputs": [],
      "source": [
        "# model.save('next_word_model.h5')\n",
        "# pickle.dump(history, open(\"history.p\", \"wb\"))\n",
        "# model = load_model('next_word_model.h5')\n",
        "# history = pickle.load(open(\"history.p\", \"rb\"))\n",
        "\n",
        "from keras.models import load_model\n",
        "MODELPATH = '/content/gdrive/MyDrive/next_words2.h5'\n",
        "model.save(MODELPATH)\n",
        "model = load_model(MODELPATH)\n",
        "pickle.dump(history, open(\"/content/gdrive/MyDrive/history.p\", \"wb\"))\n",
        "# history = pickle.load(open(\"history.p\", \"rb\"))"
      ]
    },
    {
      "cell_type": "code",
      "execution_count": null,
      "metadata": {
        "id": "uEEzXWk6P8WK"
      },
      "outputs": [],
      "source": [
        "from keras.models import load_model\n",
        "MODELPATH = '/content/gdrive/MyDrive/next_words2.h5'\n",
        "model = load_model(MODELPATH)"
      ]
    },
    {
      "cell_type": "markdown",
      "metadata": {
        "id": "bFb6hvOfxNU4"
      },
      "source": [
        "# Evaluating the Model"
      ]
    },
    {
      "cell_type": "code",
      "execution_count": null,
      "metadata": {
        "id": "niEGFiwnqZUA"
      },
      "outputs": [],
      "source": [
        "plt.plot(history['accuracy'])\n",
        "plt.plot(history['val_accuracy'])\n",
        "plt.title('model accuracy')\n",
        "plt.ylabel('accuracy')\n",
        "plt.xlabel('epoch')\n",
        "plt.legend(['train', 'test'], loc='upper left')\n",
        "plt.savefig(\"01.Accuracy.png\")"
      ]
    },
    {
      "cell_type": "code",
      "execution_count": null,
      "metadata": {
        "id": "VC2C_4abqZ70"
      },
      "outputs": [],
      "source": [
        "plt.plot(history['loss'])\n",
        "plt.plot(history['val_loss'])\n",
        "plt.title('model loss')\n",
        "plt.ylabel('loss')\n",
        "plt.xlabel('epoch')\n",
        "plt.legend(['train', 'test'], loc='upper left')\n",
        "plt.savefig(\"02.Loss.png\")"
      ]
    },
    {
      "cell_type": "markdown",
      "metadata": {
        "id": "FCTsCiDOwYOV"
      },
      "source": [
        "# Testing the Model"
      ]
    },
    {
      "cell_type": "code",
      "execution_count": null,
      "metadata": {
        "id": "xNrcEglzqc3x"
      },
      "outputs": [],
      "source": [
        "def prepare_input(text):\n",
        "    x = np.zeros((1, SEQUENCE_LENGTH, len(chars)))\n",
        "    for t, char in enumerate(text):\n",
        "        x[0, t, char_indices[char]] = 1\n",
        "    return x"
      ]
    },
    {
      "cell_type": "code",
      "execution_count": null,
      "metadata": {
        "id": "a4DjgzuuqiD5"
      },
      "outputs": [],
      "source": [
        "#The sample function\n",
        "#This function allows us to ask our model what are the next probable characters (The heap simplifies the job)\n",
        "def sample(preds, top_n = 3):\n",
        "    preds = np.asarray(preds).astype('float64')\n",
        "    preds = np.log(preds)\n",
        "    exp_preds = np.exp(preds)\n",
        "    preds = exp_preds / np.sum(exp_preds)\n",
        "    return heapq.nlargest(top_n, range(len(preds)), preds.take)"
      ]
    },
    {
      "cell_type": "code",
      "execution_count": null,
      "metadata": {
        "id": "gpueC_qvqkAh"
      },
      "outputs": [],
      "source": [
        "#Prediction function\n",
        "def predict_completion(text):\n",
        "    original_text = text\n",
        "    generalised = text\n",
        "    completion = ''\n",
        "    while True:\n",
        "        x = prepare_input(text)\n",
        "        preds = model.predict(x, verbose=0)[0]\n",
        "        next_index = sample(preds, top_n=1)[0]\n",
        "        next_char = indices_char[next_index]\n",
        "\n",
        "        text = text[1:] + next_char\n",
        "        completion += next_char\n",
        "\n",
        "        if len(original_text + completion) + 2 > len(original_text) and next_char == ' ':\n",
        "            return completion"
      ]
    },
    {
      "cell_type": "code",
      "execution_count": null,
      "metadata": {
        "id": "ltIlkjwaqrRA"
      },
      "outputs": [],
      "source": [
        "#This methods wraps everything and allows us to predict multiple completions\n",
        "def predict_completions(text, n = 3):\n",
        "    x = prepare_input(text)\n",
        "    preds = model.predict(x, verbose=0)[0]\n",
        "    next_indices = sample(preds, n)\n",
        "    return [indices_char[idx] + predict_completion(text[1:] + indices_char[idx]) for idx in next_indices]"
      ]
    },
    {
      "cell_type": "code",
      "execution_count": null,
      "metadata": {
        "id": "4sdyezqyqx9_"
      },
      "outputs": [],
      "source": [
        "quotes = [\n",
        "    \"It is not a lack of love, but a lack of friendship that makes unhappy marriages.\",\n",
        "    \"That which does not kill us makes us stronger.\",\n",
        "    \"I'm not upset that you lied to me, I'm upset that from now on I can't believe you.\",\n",
        "    \"And those who were seen dancing were thought to be insane by those who could not hear the music.\",\n",
        "    \"It is hard enough to remember my opinions, without also remembering my reasons for them!\"\n",
        "]"
      ]
    },
    {
      "cell_type": "code",
      "execution_count": null,
      "metadata": {
        "colab": {
          "background_save": true,
          "base_uri": "https://localhost:8080/"
        },
        "id": "zBvLAc_Eq3MJ",
        "outputId": "40466f00-bc0c-4ba2-9e1a-b6495bb01e97"
      },
      "outputs": [
        {
          "name": "stdout",
          "output_type": "stream",
          "text": [
            "it is not a lack of love, but a lack of \n",
            "['the ', 'a ', 'his ', 'man ', 'bring ']\n",
            "\n",
            "that which does not kill us makes us str\n",
            "['eet. ', 'uck ', 'ikes ', 'ong ', 'ange ']\n",
            "\n",
            "i'm not upset that you lied to me, i'm u\n",
            "['nderstand, ', 'pon ', 'sed ', 'tterly ', '\\nwas ']\n",
            "\n",
            "and those who were seen dancing were tho\n",
            "['ugh ', 'se ', 't ', 'refather ', ' clear ']\n",
            "\n",
            "it is hard enough to remember my opinion\n",
            "[' in ', 's ', '. ', ', ', '\\nthe ']\n",
            "\n"
          ]
        }
      ],
      "source": [
        "for q in quotes:\n",
        "    seq = q[:40].lower()\n",
        "    print(seq)\n",
        "    print(predict_completions(seq, 5))\n",
        "    print()"
      ]
    },
    {
      "cell_type": "code",
      "execution_count": null,
      "metadata": {
        "colab": {
          "background_save": true,
          "base_uri": "https://localhost:8080/"
        },
        "id": "XdP-sxFKju2a",
        "outputId": "5e7a6951-1f13-4baf-ec68-bf47adcb9567"
      },
      "outputs": [
        {
          "name": "stdout",
          "output_type": "stream",
          "text": [
            "the august person who employs me wishes \n",
            "['and ', 'the ', 'with ', 'between ', 'of ']\n",
            "\n",
            "the august person who employs me wishes\n",
            "['fsbbbsbcmpbbsbbbsbm\\nbfbid-bbcmsm. ', 'bbbsbb ', 'mbbbskswbtlbbbbim’s.bcbswbbbsmbbcesmsm-bbb ', 'sf-bbsbbbsbb ', 'cbbbsub-bbbbcmbbbqbcm’a-lbb-bbsbsbbbybbsbbb ']\n",
            "\n",
            "the august person who employs me wishes \n",
            "['and ', 'the ', 'with ', 'between ', 'of ']\n",
            "\n"
          ]
        }
      ],
      "source": [
        "while(True):\n",
        "  text = input(\"Enter your line: \")\n",
        "\n",
        "  if text == \"0\":\n",
        "      print(\"Execution completed...\")\n",
        "      break\n",
        "\n",
        "  else:\n",
        "      seq = text[:40].lower()\n",
        "      print(seq)\n",
        "      print(predict_completions(seq, 5))\n",
        "      print()\n"
      ]
    }
  ],
  "metadata": {
    "colab": {
      "provenance": [],
      "authorship_tag": "ABX9TyMUkIqC4CYdsCbqwNvW57DN",
      "include_colab_link": true
    },
    "kernelspec": {
      "display_name": "Python 3",
      "name": "python3"
    },
    "language_info": {
      "name": "python"
    }
  },
  "nbformat": 4,
  "nbformat_minor": 0
}